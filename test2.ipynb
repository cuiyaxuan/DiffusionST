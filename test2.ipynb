{
 "cells": [
  {
   "cell_type": "code",
   "execution_count": 1,
   "id": "90f87e2b",
   "metadata": {},
   "outputs": [
    {
     "name": "stderr",
     "output_type": "stream",
     "text": [
      "/home/cuiyaxuan/anaconda3/envs/pytorch/lib/python3.8/site-packages/tqdm/auto.py:22: TqdmWarning: IProgress not found. Please update jupyter and ipywidgets. See https://ipywidgets.readthedocs.io/en/stable/user_install.html\n",
      "  from .autonotebook import tqdm as notebook_tqdm\n"
     ]
    }
   ],
   "source": [
    "from DenoiseST import DenoiseST\n",
    "import os\n",
    "import torch\n",
    "import pandas as pd\n",
    "import numpy as np\n",
    "import scanpy as sc\n",
    "from sklearn import metrics\n",
    "import multiprocessing as mp"
   ]
  },
  {
   "cell_type": "code",
   "execution_count": null,
   "id": "bf1b0ee2",
   "metadata": {},
   "outputs": [],
   "source": [
    "device = torch.device('cuda:2' if torch.cuda.is_available() else 'cpu')\n",
    "\n",
    "n_clusters = 7\n",
    "\n",
    "#file_fold = './Mouse_Brain/' #please replace 'file_fold' with the download path\n",
    "file_fold = '/home/cuiyaxuan/spatialLIBD/5.Mouse_Olfactory/'\n",
    "#adata = sc.read_h5ad(file_fold + 'mouse_anterior_posterior_brain_merged.h5ad')\n",
    "adata = sc.read_h5ad(file_fold + 'filtered_feature_bc_matrix.h5ad')\n",
    "adata.var_names_make_unique()\n",
    "\n",
    "\n",
    "model = DenoiseST(adata,device=device,n_top_genes=4096)\n",
    "adata = model.train()"
   ]
  },
  {
   "cell_type": "code",
   "execution_count": null,
   "id": "5fe35b19",
   "metadata": {},
   "outputs": [],
   "source": [
    "from repair_model import main_repair\n",
    "df=pd.DataFrame(adata.obsm['emb'])\n",
    "main_repair(adata,df,device)"
   ]
  },
  {
   "cell_type": "code",
   "execution_count": null,
   "id": "f43c7625",
   "metadata": {},
   "outputs": [],
   "source": [
    "csv_file = \"example.csv\"\n",
    "data_df = pd.read_csv(csv_file, header=None)\n",
    "data_df = data_df.values\n",
    "adata.obsm['emb'] = data_df"
   ]
  },
  {
   "cell_type": "code",
   "execution_count": null,
   "id": "547ed09c",
   "metadata": {},
   "outputs": [],
   "source": [
    "from utils import clustering\n",
    "\n",
    "radius = 50\n",
    "tool = 'mclust' # mclust, leiden, and louvain\n",
    "if tool == 'mclust':\n",
    "   clustering(adata, n_clusters, radius=radius, method=tool, refinement=True)\n",
    "elif tool in ['leiden', 'louvain']:\n",
    "   clustering(adata, n_clusters, radius=radius, method=tool, start=0.1, end=2.0, increment=0.01, refinement=False)\n",
    "\n",
    "df=adata.obs['domain']\n",
    "df.to_csv(\"label_MO.csv\")"
   ]
  },
  {
   "cell_type": "code",
   "execution_count": null,
   "id": "f5d96b58",
   "metadata": {},
   "outputs": [],
   "source": [
    "import matplotlib as mpl\n",
    "import scanpy as sc\n",
    "import numpy as np\n",
    "import pandas as pd\n",
    "import seaborn as sns\n",
    "import matplotlib.pyplot as plt\n",
    "import warnings\n",
    "import visual_high\n",
    "mpl.rcParams['pdf.fonttype'] = 42\n",
    "mpl.rcParams[\"font.sans-serif\"] = \"Arial\"\n",
    "warnings.filterwarnings('ignore')\n",
    "file_fold = '/home/cuiyaxuan/spatialLIBD/5.Mouse_Olfactory/'\n",
    "#adata = sc.read_h5ad(file_fold + 'mouse_anterior_posterior_brain_merged.h5ad')\n",
    "adata = sc.read_h5ad(file_fold + 'filtered_feature_bc_matrix.h5ad')\n",
    "df_label=pd.read_csv('/home/cuiyaxuan/DiffusionST/Diffusion_MO_7/label_MO.csv', index_col=0) \n",
    "#df_label=pd.read_csv('./label_5000.csv', index_col=0) ##If the dropout rate is less than 0.85, visualize the data using \"label_5000.csv\".\n",
    "visual_high.visual(adata,df_label)"
   ]
  },
  {
   "cell_type": "code",
   "execution_count": null,
   "id": "4f7cf244",
   "metadata": {},
   "outputs": [],
   "source": []
  }
 ],
 "metadata": {
  "kernelspec": {
   "display_name": "Python [conda env:pytorch]",
   "language": "python",
   "name": "conda-env-pytorch-py"
  },
  "language_info": {
   "codemirror_mode": {
    "name": "ipython",
    "version": 3
   },
   "file_extension": ".py",
   "mimetype": "text/x-python",
   "name": "python",
   "nbconvert_exporter": "python",
   "pygments_lexer": "ipython3",
   "version": "3.8.15"
  }
 },
 "nbformat": 4,
 "nbformat_minor": 5
}
